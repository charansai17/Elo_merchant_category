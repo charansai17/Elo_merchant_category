{
 "cells": [
  {
   "cell_type": "code",
   "execution_count": null,
   "metadata": {},
   "outputs": [],
   "source": []
  },
  {
   "cell_type": "code",
   "execution_count": 1,
   "metadata": {},
   "outputs": [
    {
     "name": "stdout",
     "output_type": "stream",
     "text": [
      "Requirement already satisfied: lightgbm in /opt/conda/lib/python3.7/site-packages (2.3.1)\r\n",
      "Requirement already satisfied: scipy in /opt/conda/lib/python3.7/site-packages (from lightgbm) (1.4.1)\r\n",
      "Requirement already satisfied: numpy in /opt/conda/lib/python3.7/site-packages (from lightgbm) (1.18.3)\r\n",
      "Requirement already satisfied: scikit-learn in /opt/conda/lib/python3.7/site-packages (from lightgbm) (0.22.2.post1)\r\n",
      "Requirement already satisfied: joblib>=0.11 in /opt/conda/lib/python3.7/site-packages (from scikit-learn->lightgbm) (0.14.1)\r\n"
     ]
    }
   ],
   "source": [
    "!pip install lightgbm"
   ]
  },
  {
   "cell_type": "code",
   "execution_count": 2,
   "metadata": {},
   "outputs": [],
   "source": [
    "import numpy as np \n",
    "import pandas as pd \n",
    "import matplotlib.pyplot as plt\n",
    "import seaborn as sns\n",
    "import lightgbm as lgb\n",
    "from sklearn.model_selection import KFold\n",
    "import warnings\n",
    "import gc\n",
    "import time\n",
    "import sys\n",
    "import datetime\n",
    "import matplotlib.pyplot as plt\n",
    "import seaborn as sns\n",
    "from sklearn.metrics import mean_squared_error\n",
    "warnings.simplefilter(action='ignore', category=FutureWarning)\n",
    "pd.set_option('display.max_columns', 500)"
   ]
  },
  {
   "cell_type": "code",
   "execution_count": 3,
   "metadata": {},
   "outputs": [
    {
     "name": "stdout",
     "output_type": "stream",
     "text": [
      "Number of data points :  8685556\n",
      "Number of features :  20\n",
      "Features :  ['Unnamed: 0' 'first_active_month' 'card_id' 'feature_1' 'feature_2'\n",
      " 'feature_3' 'target' 'authorized_flag' 'city_id' 'category_1'\n",
      " 'installments' 'category_3' 'merchant_category_id' 'merchant_id'\n",
      " 'month_lag' 'purchase_amount' 'purchase_date' 'category_2' 'state_id'\n",
      " 'subsector_id']\n"
     ]
    }
   ],
   "source": [
    "#Saving the latest copy which has all the data in to csv format\n",
    "#train_gf.to_csv('train_gf.csv')\n",
    "#import dask.dataframe as dd\n",
    "elo_train=pd.read_csv('hist_df.csv')\n",
    "#print('Number of data points : ', elo_train.shape[0])\n",
    "print('Number of data points : ', elo_train.shape[0])\n",
    "print('Number of features : ', elo_train.shape[1])\n",
    "print('Features : ', elo_train.columns.values)\n",
    "#train_data.head()"
   ]
  },
  {
   "cell_type": "code",
   "execution_count": 4,
   "metadata": {},
   "outputs": [
    {
     "name": "stdout",
     "output_type": "stream",
     "text": [
      "Number of features :  19\n"
     ]
    }
   ],
   "source": [
    "#Removing 'unnamed' column from dataframe\n",
    "#https://stackoverflow.com/questions/43983622/remove-unnamed-columns-in-pandas-dataframe\n",
    "elo_train = elo_train.loc[:, ~elo_train.columns.str.contains('^Unnamed')]\n",
    "print('Number of features : ', elo_train.shape[1])"
   ]
  },
  {
   "cell_type": "markdown",
   "metadata": {},
   "source": [
    "-first active month seems like not important as it doesn't contribute much to the transaction.\n",
    "\n",
    "-authorised flag seems not important in deciding the feature almost majority of transactions are 'approved'"
   ]
  },
  {
   "cell_type": "code",
   "execution_count": 5,
   "metadata": {},
   "outputs": [],
   "source": [
    "del elo_train['authorized_flag']\n",
    "del elo_train['first_active_month']"
   ]
  },
  {
   "cell_type": "code",
   "execution_count": 6,
   "metadata": {},
   "outputs": [
    {
     "name": "stdout",
     "output_type": "stream",
     "text": [
      "Number of features :  17\n"
     ]
    }
   ],
   "source": [
    "print('Number of features : ', elo_train.shape[1])"
   ]
  },
  {
   "cell_type": "code",
   "execution_count": 7,
   "metadata": {},
   "outputs": [],
   "source": [
    "elo_train.to_csv(\"elo_train.csv\")"
   ]
  },
  {
   "cell_type": "markdown",
   "metadata": {},
   "source": [
    "<h3> Train Test split </h3>"
   ]
  },
  {
   "cell_type": "code",
   "execution_count": 3,
   "metadata": {},
   "outputs": [
    {
     "name": "stdout",
     "output_type": "stream",
     "text": [
      "Number of data points :  8685556\n",
      "Number of features :  18\n",
      "Features :  ['Unnamed: 0' 'card_id' 'feature_1' 'feature_2' 'feature_3' 'target'\n",
      " 'city_id' 'category_1' 'installments' 'category_3' 'merchant_category_id'\n",
      " 'merchant_id' 'month_lag' 'purchase_amount' 'purchase_date' 'category_2'\n",
      " 'state_id' 'subsector_id']\n"
     ]
    }
   ],
   "source": [
    "p_d=pd.read_csv('elo_train.csv')\n",
    "#print('Number of data points : ', elo_train.shape[0])\n",
    "print('Number of data points : ', p_d.shape[0])\n",
    "print('Number of features : ', p_d.shape[1])\n",
    "print('Features : ', p_d.columns.values)"
   ]
  },
  {
   "cell_type": "code",
   "execution_count": 4,
   "metadata": {},
   "outputs": [
    {
     "name": "stdout",
     "output_type": "stream",
     "text": [
      "Number of features :  17\n"
     ]
    }
   ],
   "source": [
    "#Removing 'unnamed' column from dataframe\n",
    "#https://stackoverflow.com/questions/43983622/remove-unnamed-columns-in-pandas-dataframe\n",
    "p_d = p_d.loc[:, ~p_d.columns.str.contains('^Unnamed')]\n",
    "print('Number of features : ', p_d.shape[1])"
   ]
  },
  {
   "cell_type": "code",
   "execution_count": 5,
   "metadata": {},
   "outputs": [],
   "source": [
    "from sklearn.utils import resample\n",
    "elo_trn = resample(p_d,n_samples = 400000)"
   ]
  },
  {
   "cell_type": "code",
   "execution_count": 6,
   "metadata": {},
   "outputs": [
    {
     "data": {
      "text/plain": [
       "(400000, 17)"
      ]
     },
     "execution_count": 6,
     "metadata": {},
     "output_type": "execute_result"
    }
   ],
   "source": [
    "elo_trn.shape"
   ]
  },
  {
   "cell_type": "code",
   "execution_count": 7,
   "metadata": {},
   "outputs": [],
   "source": [
    "#https://stackoverflow.com/questions/40531255/how-to-replace-empty-cells-with-0-and-change-strings-to-integers-where-possible/40531388\n",
    "def recode_empty_cells(dataframe, list_of_columns):\n",
    "\n",
    "    for column in list_of_columns:\n",
    "      dataframe[column] = dataframe[column].replace(r'\\s+', np.nan, regex=True)\n",
    "      dataframe[column] = dataframe[column].fillna(0)\n",
    "\n",
    "    return dataframe"
   ]
  },
  {
   "cell_type": "code",
   "execution_count": 8,
   "metadata": {},
   "outputs": [
    {
     "name": "stderr",
     "output_type": "stream",
     "text": [
      "/opt/conda/lib/python3.7/site-packages/ipykernel_launcher.py:5: SettingWithCopyWarning: \n",
      "A value is trying to be set on a copy of a slice from a DataFrame.\n",
      "Try using .loc[row_indexer,col_indexer] = value instead\n",
      "\n",
      "See the caveats in the documentation: https://pandas.pydata.org/pandas-docs/stable/user_guide/indexing.html#returning-a-view-versus-a-copy\n",
      "  \"\"\"\n",
      "/opt/conda/lib/python3.7/site-packages/ipykernel_launcher.py:6: SettingWithCopyWarning: \n",
      "A value is trying to be set on a copy of a slice from a DataFrame.\n",
      "Try using .loc[row_indexer,col_indexer] = value instead\n",
      "\n",
      "See the caveats in the documentation: https://pandas.pydata.org/pandas-docs/stable/user_guide/indexing.html#returning-a-view-versus-a-copy\n",
      "  \n"
     ]
    },
    {
     "data": {
      "text/html": [
       "<div>\n",
       "<style scoped>\n",
       "    .dataframe tbody tr th:only-of-type {\n",
       "        vertical-align: middle;\n",
       "    }\n",
       "\n",
       "    .dataframe tbody tr th {\n",
       "        vertical-align: top;\n",
       "    }\n",
       "\n",
       "    .dataframe thead th {\n",
       "        text-align: right;\n",
       "    }\n",
       "</style>\n",
       "<table border=\"1\" class=\"dataframe\">\n",
       "  <thead>\n",
       "    <tr style=\"text-align: right;\">\n",
       "      <th></th>\n",
       "      <th>card_id</th>\n",
       "      <th>feature_1</th>\n",
       "      <th>feature_2</th>\n",
       "      <th>feature_3</th>\n",
       "      <th>target</th>\n",
       "      <th>city_id</th>\n",
       "      <th>category_1</th>\n",
       "      <th>installments</th>\n",
       "      <th>category_3</th>\n",
       "      <th>merchant_category_id</th>\n",
       "      <th>merchant_id</th>\n",
       "      <th>month_lag</th>\n",
       "      <th>purchase_amount</th>\n",
       "      <th>purchase_date</th>\n",
       "      <th>category_2</th>\n",
       "      <th>state_id</th>\n",
       "      <th>subsector_id</th>\n",
       "    </tr>\n",
       "  </thead>\n",
       "  <tbody>\n",
       "    <tr>\n",
       "      <th>1680165</th>\n",
       "      <td>C_ID_6e40c6d1d7</td>\n",
       "      <td>4.0</td>\n",
       "      <td>1.0</td>\n",
       "      <td>0.0</td>\n",
       "      <td>0.790527</td>\n",
       "      <td>14.0</td>\n",
       "      <td>N</td>\n",
       "      <td>1.0</td>\n",
       "      <td>B</td>\n",
       "      <td>842.0</td>\n",
       "      <td>M_ID_1521aef9ea</td>\n",
       "      <td>-1.0</td>\n",
       "      <td>-0.695066</td>\n",
       "      <td>0.0</td>\n",
       "      <td>5.0</td>\n",
       "      <td>20.0</td>\n",
       "      <td>37.0</td>\n",
       "    </tr>\n",
       "    <tr>\n",
       "      <th>3145610</th>\n",
       "      <td>C_ID_7889b6f868</td>\n",
       "      <td>3.0</td>\n",
       "      <td>1.0</td>\n",
       "      <td>1.0</td>\n",
       "      <td>-0.902832</td>\n",
       "      <td>-1.0</td>\n",
       "      <td>Y</td>\n",
       "      <td>1.0</td>\n",
       "      <td>B</td>\n",
       "      <td>879.0</td>\n",
       "      <td>M_ID_9139332ccc</td>\n",
       "      <td>-3.0</td>\n",
       "      <td>-0.732648</td>\n",
       "      <td>0.0</td>\n",
       "      <td>5.0</td>\n",
       "      <td>-1.0</td>\n",
       "      <td>29.0</td>\n",
       "    </tr>\n",
       "    <tr>\n",
       "      <th>693405</th>\n",
       "      <td>C_ID_9fac55761f</td>\n",
       "      <td>2.0</td>\n",
       "      <td>3.0</td>\n",
       "      <td>0.0</td>\n",
       "      <td>-1.042969</td>\n",
       "      <td>19.0</td>\n",
       "      <td>N</td>\n",
       "      <td>1.0</td>\n",
       "      <td>B</td>\n",
       "      <td>507.0</td>\n",
       "      <td>M_ID_eb93ccf381</td>\n",
       "      <td>0.0</td>\n",
       "      <td>-0.220980</td>\n",
       "      <td>0.0</td>\n",
       "      <td>1.0</td>\n",
       "      <td>9.0</td>\n",
       "      <td>14.0</td>\n",
       "    </tr>\n",
       "    <tr>\n",
       "      <th>8682929</th>\n",
       "      <td>C_ID_35bf19ef29</td>\n",
       "      <td>0.0</td>\n",
       "      <td>0.0</td>\n",
       "      <td>0.0</td>\n",
       "      <td>0.000000</td>\n",
       "      <td>-1.0</td>\n",
       "      <td>Y</td>\n",
       "      <td>3.0</td>\n",
       "      <td>C</td>\n",
       "      <td>210.0</td>\n",
       "      <td>M_ID_621c8f4f75</td>\n",
       "      <td>1.0</td>\n",
       "      <td>-0.546387</td>\n",
       "      <td>0.0</td>\n",
       "      <td>1.0</td>\n",
       "      <td>-1.0</td>\n",
       "      <td>35.0</td>\n",
       "    </tr>\n",
       "    <tr>\n",
       "      <th>2487093</th>\n",
       "      <td>C_ID_e8ad14c005</td>\n",
       "      <td>2.0</td>\n",
       "      <td>1.0</td>\n",
       "      <td>0.0</td>\n",
       "      <td>0.394287</td>\n",
       "      <td>256.0</td>\n",
       "      <td>N</td>\n",
       "      <td>1.0</td>\n",
       "      <td>B</td>\n",
       "      <td>560.0</td>\n",
       "      <td>M_ID_dc963337c3</td>\n",
       "      <td>-5.0</td>\n",
       "      <td>-0.734361</td>\n",
       "      <td>0.0</td>\n",
       "      <td>5.0</td>\n",
       "      <td>5.0</td>\n",
       "      <td>34.0</td>\n",
       "    </tr>\n",
       "    <tr>\n",
       "      <th>...</th>\n",
       "      <td>...</td>\n",
       "      <td>...</td>\n",
       "      <td>...</td>\n",
       "      <td>...</td>\n",
       "      <td>...</td>\n",
       "      <td>...</td>\n",
       "      <td>...</td>\n",
       "      <td>...</td>\n",
       "      <td>...</td>\n",
       "      <td>...</td>\n",
       "      <td>...</td>\n",
       "      <td>...</td>\n",
       "      <td>...</td>\n",
       "      <td>...</td>\n",
       "      <td>...</td>\n",
       "      <td>...</td>\n",
       "      <td>...</td>\n",
       "    </tr>\n",
       "    <tr>\n",
       "      <th>2171045</th>\n",
       "      <td>C_ID_36347cd128</td>\n",
       "      <td>2.0</td>\n",
       "      <td>1.0</td>\n",
       "      <td>0.0</td>\n",
       "      <td>-0.371338</td>\n",
       "      <td>199.0</td>\n",
       "      <td>N</td>\n",
       "      <td>1.0</td>\n",
       "      <td>B</td>\n",
       "      <td>307.0</td>\n",
       "      <td>M_ID_e061c72d34</td>\n",
       "      <td>-2.0</td>\n",
       "      <td>-0.664262</td>\n",
       "      <td>0.0</td>\n",
       "      <td>4.0</td>\n",
       "      <td>14.0</td>\n",
       "      <td>19.0</td>\n",
       "    </tr>\n",
       "    <tr>\n",
       "      <th>767202</th>\n",
       "      <td>C_ID_b706dae817</td>\n",
       "      <td>5.0</td>\n",
       "      <td>1.0</td>\n",
       "      <td>1.0</td>\n",
       "      <td>1.161133</td>\n",
       "      <td>150.0</td>\n",
       "      <td>N</td>\n",
       "      <td>1.0</td>\n",
       "      <td>B</td>\n",
       "      <td>705.0</td>\n",
       "      <td>M_ID_1a5880eb9a</td>\n",
       "      <td>-2.0</td>\n",
       "      <td>-0.660010</td>\n",
       "      <td>0.0</td>\n",
       "      <td>5.0</td>\n",
       "      <td>5.0</td>\n",
       "      <td>33.0</td>\n",
       "    </tr>\n",
       "    <tr>\n",
       "      <th>5066186</th>\n",
       "      <td>C_ID_ead4c6a1c7</td>\n",
       "      <td>5.0</td>\n",
       "      <td>1.0</td>\n",
       "      <td>1.0</td>\n",
       "      <td>-0.263916</td>\n",
       "      <td>-1.0</td>\n",
       "      <td>Y</td>\n",
       "      <td>1.0</td>\n",
       "      <td>B</td>\n",
       "      <td>879.0</td>\n",
       "      <td>M_ID_9139332ccc</td>\n",
       "      <td>-3.0</td>\n",
       "      <td>-0.721513</td>\n",
       "      <td>0.0</td>\n",
       "      <td>1.0</td>\n",
       "      <td>-1.0</td>\n",
       "      <td>29.0</td>\n",
       "    </tr>\n",
       "    <tr>\n",
       "      <th>3816591</th>\n",
       "      <td>C_ID_e11116d6d1</td>\n",
       "      <td>2.0</td>\n",
       "      <td>3.0</td>\n",
       "      <td>0.0</td>\n",
       "      <td>-0.875000</td>\n",
       "      <td>233.0</td>\n",
       "      <td>N</td>\n",
       "      <td>1.0</td>\n",
       "      <td>B</td>\n",
       "      <td>367.0</td>\n",
       "      <td>M_ID_a3aa808eb3</td>\n",
       "      <td>-8.0</td>\n",
       "      <td>-0.705405</td>\n",
       "      <td>0.0</td>\n",
       "      <td>1.0</td>\n",
       "      <td>9.0</td>\n",
       "      <td>16.0</td>\n",
       "    </tr>\n",
       "    <tr>\n",
       "      <th>5645888</th>\n",
       "      <td>C_ID_8d2895a550</td>\n",
       "      <td>5.0</td>\n",
       "      <td>1.0</td>\n",
       "      <td>1.0</td>\n",
       "      <td>3.398438</td>\n",
       "      <td>88.0</td>\n",
       "      <td>N</td>\n",
       "      <td>1.0</td>\n",
       "      <td>B</td>\n",
       "      <td>206.0</td>\n",
       "      <td>M_ID_7ac287b5a0</td>\n",
       "      <td>-9.0</td>\n",
       "      <td>-0.592661</td>\n",
       "      <td>0.0</td>\n",
       "      <td>1.0</td>\n",
       "      <td>16.0</td>\n",
       "      <td>1.0</td>\n",
       "    </tr>\n",
       "  </tbody>\n",
       "</table>\n",
       "<p>400000 rows × 17 columns</p>\n",
       "</div>"
      ],
      "text/plain": [
       "                 card_id  feature_1  feature_2  feature_3    target  city_id  \\\n",
       "1680165  C_ID_6e40c6d1d7        4.0        1.0        0.0  0.790527     14.0   \n",
       "3145610  C_ID_7889b6f868        3.0        1.0        1.0 -0.902832     -1.0   \n",
       "693405   C_ID_9fac55761f        2.0        3.0        0.0 -1.042969     19.0   \n",
       "8682929  C_ID_35bf19ef29        0.0        0.0        0.0  0.000000     -1.0   \n",
       "2487093  C_ID_e8ad14c005        2.0        1.0        0.0  0.394287    256.0   \n",
       "...                  ...        ...        ...        ...       ...      ...   \n",
       "2171045  C_ID_36347cd128        2.0        1.0        0.0 -0.371338    199.0   \n",
       "767202   C_ID_b706dae817        5.0        1.0        1.0  1.161133    150.0   \n",
       "5066186  C_ID_ead4c6a1c7        5.0        1.0        1.0 -0.263916     -1.0   \n",
       "3816591  C_ID_e11116d6d1        2.0        3.0        0.0 -0.875000    233.0   \n",
       "5645888  C_ID_8d2895a550        5.0        1.0        1.0  3.398438     88.0   \n",
       "\n",
       "        category_1  installments category_3  merchant_category_id  \\\n",
       "1680165          N           1.0          B                 842.0   \n",
       "3145610          Y           1.0          B                 879.0   \n",
       "693405           N           1.0          B                 507.0   \n",
       "8682929          Y           3.0          C                 210.0   \n",
       "2487093          N           1.0          B                 560.0   \n",
       "...            ...           ...        ...                   ...   \n",
       "2171045          N           1.0          B                 307.0   \n",
       "767202           N           1.0          B                 705.0   \n",
       "5066186          Y           1.0          B                 879.0   \n",
       "3816591          N           1.0          B                 367.0   \n",
       "5645888          N           1.0          B                 206.0   \n",
       "\n",
       "             merchant_id  month_lag  purchase_amount  purchase_date  \\\n",
       "1680165  M_ID_1521aef9ea       -1.0        -0.695066            0.0   \n",
       "3145610  M_ID_9139332ccc       -3.0        -0.732648            0.0   \n",
       "693405   M_ID_eb93ccf381        0.0        -0.220980            0.0   \n",
       "8682929  M_ID_621c8f4f75        1.0        -0.546387            0.0   \n",
       "2487093  M_ID_dc963337c3       -5.0        -0.734361            0.0   \n",
       "...                  ...        ...              ...            ...   \n",
       "2171045  M_ID_e061c72d34       -2.0        -0.664262            0.0   \n",
       "767202   M_ID_1a5880eb9a       -2.0        -0.660010            0.0   \n",
       "5066186  M_ID_9139332ccc       -3.0        -0.721513            0.0   \n",
       "3816591  M_ID_a3aa808eb3       -8.0        -0.705405            0.0   \n",
       "5645888  M_ID_7ac287b5a0       -9.0        -0.592661            0.0   \n",
       "\n",
       "         category_2  state_id  subsector_id  \n",
       "1680165         5.0      20.0          37.0  \n",
       "3145610         5.0      -1.0          29.0  \n",
       "693405          1.0       9.0          14.0  \n",
       "8682929         1.0      -1.0          35.0  \n",
       "2487093         5.0       5.0          34.0  \n",
       "...             ...       ...           ...  \n",
       "2171045         4.0      14.0          19.0  \n",
       "767202          5.0       5.0          33.0  \n",
       "5066186         1.0      -1.0          29.0  \n",
       "3816591         1.0       9.0          16.0  \n",
       "5645888         1.0      16.0           1.0  \n",
       "\n",
       "[400000 rows x 17 columns]"
      ]
     },
     "execution_count": 8,
     "metadata": {},
     "output_type": "execute_result"
    }
   ],
   "source": [
    "recode_empty_cells(elo_trn, list(elo_trn.columns.values))"
   ]
  },
  {
   "cell_type": "code",
   "execution_count": 9,
   "metadata": {},
   "outputs": [
    {
     "name": "stderr",
     "output_type": "stream",
     "text": [
      "/opt/conda/lib/python3.7/site-packages/ipykernel_launcher.py:2: SettingWithCopyWarning: \n",
      "A value is trying to be set on a copy of a slice from a DataFrame.\n",
      "Try using .loc[row_indexer,col_indexer] = value instead\n",
      "\n",
      "See the caveats in the documentation: https://pandas.pydata.org/pandas-docs/stable/user_guide/indexing.html#returning-a-view-versus-a-copy\n",
      "  \n",
      "/opt/conda/lib/python3.7/site-packages/ipykernel_launcher.py:3: SettingWithCopyWarning: \n",
      "A value is trying to be set on a copy of a slice from a DataFrame.\n",
      "Try using .loc[row_indexer,col_indexer] = value instead\n",
      "\n",
      "See the caveats in the documentation: https://pandas.pydata.org/pandas-docs/stable/user_guide/indexing.html#returning-a-view-versus-a-copy\n",
      "  This is separate from the ipykernel package so we can avoid doing imports until\n",
      "/opt/conda/lib/python3.7/site-packages/ipykernel_launcher.py:4: SettingWithCopyWarning: \n",
      "A value is trying to be set on a copy of a slice from a DataFrame.\n",
      "Try using .loc[row_indexer,col_indexer] = value instead\n",
      "\n",
      "See the caveats in the documentation: https://pandas.pydata.org/pandas-docs/stable/user_guide/indexing.html#returning-a-view-versus-a-copy\n",
      "  after removing the cwd from sys.path.\n",
      "/opt/conda/lib/python3.7/site-packages/ipykernel_launcher.py:5: SettingWithCopyWarning: \n",
      "A value is trying to be set on a copy of a slice from a DataFrame.\n",
      "Try using .loc[row_indexer,col_indexer] = value instead\n",
      "\n",
      "See the caveats in the documentation: https://pandas.pydata.org/pandas-docs/stable/user_guide/indexing.html#returning-a-view-versus-a-copy\n",
      "  \"\"\"\n",
      "/opt/conda/lib/python3.7/site-packages/ipykernel_launcher.py:7: SettingWithCopyWarning: \n",
      "A value is trying to be set on a copy of a slice from a DataFrame.\n",
      "Try using .loc[row_indexer,col_indexer] = value instead\n",
      "\n",
      "See the caveats in the documentation: https://pandas.pydata.org/pandas-docs/stable/user_guide/indexing.html#returning-a-view-versus-a-copy\n",
      "  import sys\n"
     ]
    }
   ],
   "source": [
    "#https://thispointer.com/pandas-change-data-type-of-single-or-multiple-columns-of-dataframe-in-python/\n",
    "elo_trn['merchant_category_id']=elo_trn['merchant_category_id'].astype('int16')\n",
    "elo_trn['feature_1']=elo_trn['feature_1'].astype('int16')\n",
    "elo_trn['feature_2']=elo_trn['feature_2'].astype('int16')\n",
    "elo_trn['feature_3']=elo_trn['feature_3'].astype('int16')\n",
    "#elo_trn['authorized_flag']=elo_trn['authorized_flag'].astype('int16')\n",
    "elo_trn['installments']=elo_trn['installments'].astype('int16')\n",
    "#elo_trn['category_3']=elo_trn['category_3'].astype('float32')\n",
    "#elo_trn['category_2']=elo_trn['category_2'].astype('float32')\n",
    "# Convert first_active_month to datetime\n",
    "#p_d['first_active_month'] = pd.to_datetime(p_d['first_active_month'],\n",
    "                                             #format='%Y-%m')"
   ]
  },
  {
   "cell_type": "code",
   "execution_count": 10,
   "metadata": {},
   "outputs": [],
   "source": [
    "y = elo_trn[\"target\"].values\n",
    "X = elo_trn.drop(\"target\",axis = 1)"
   ]
  },
  {
   "cell_type": "code",
   "execution_count": 11,
   "metadata": {},
   "outputs": [],
   "source": [
    "# train test split\n",
    "from sklearn.model_selection import train_test_split\n",
    "X_train, X_test, y_train, y_test = train_test_split(X, y, test_size=1/3, random_state=85)"
   ]
  },
  {
   "cell_type": "code",
   "execution_count": 12,
   "metadata": {},
   "outputs": [
    {
     "data": {
      "text/html": [
       "<div>\n",
       "<style scoped>\n",
       "    .dataframe tbody tr th:only-of-type {\n",
       "        vertical-align: middle;\n",
       "    }\n",
       "\n",
       "    .dataframe tbody tr th {\n",
       "        vertical-align: top;\n",
       "    }\n",
       "\n",
       "    .dataframe thead th {\n",
       "        text-align: right;\n",
       "    }\n",
       "</style>\n",
       "<table border=\"1\" class=\"dataframe\">\n",
       "  <thead>\n",
       "    <tr style=\"text-align: right;\">\n",
       "      <th></th>\n",
       "      <th>card_id</th>\n",
       "      <th>feature_1</th>\n",
       "      <th>feature_2</th>\n",
       "      <th>feature_3</th>\n",
       "      <th>city_id</th>\n",
       "      <th>category_1</th>\n",
       "      <th>installments</th>\n",
       "      <th>category_3</th>\n",
       "      <th>merchant_category_id</th>\n",
       "      <th>merchant_id</th>\n",
       "      <th>month_lag</th>\n",
       "      <th>purchase_amount</th>\n",
       "      <th>purchase_date</th>\n",
       "      <th>category_2</th>\n",
       "      <th>state_id</th>\n",
       "      <th>subsector_id</th>\n",
       "    </tr>\n",
       "  </thead>\n",
       "  <tbody>\n",
       "    <tr>\n",
       "      <th>1950195</th>\n",
       "      <td>C_ID_82d92e06f8</td>\n",
       "      <td>5</td>\n",
       "      <td>1</td>\n",
       "      <td>1</td>\n",
       "      <td>223.0</td>\n",
       "      <td>N</td>\n",
       "      <td>1</td>\n",
       "      <td>B</td>\n",
       "      <td>307</td>\n",
       "      <td>M_ID_7ebbaa4a05</td>\n",
       "      <td>-5.0</td>\n",
       "      <td>-0.697726</td>\n",
       "      <td>0.0</td>\n",
       "      <td>5.0</td>\n",
       "      <td>21.0</td>\n",
       "      <td>19.0</td>\n",
       "    </tr>\n",
       "    <tr>\n",
       "      <th>2009749</th>\n",
       "      <td>C_ID_4f500e4e9e</td>\n",
       "      <td>4</td>\n",
       "      <td>2</td>\n",
       "      <td>0</td>\n",
       "      <td>19.0</td>\n",
       "      <td>N</td>\n",
       "      <td>1</td>\n",
       "      <td>B</td>\n",
       "      <td>307</td>\n",
       "      <td>M_ID_f73a3fbf30</td>\n",
       "      <td>-4.0</td>\n",
       "      <td>-0.716855</td>\n",
       "      <td>0.0</td>\n",
       "      <td>1.0</td>\n",
       "      <td>9.0</td>\n",
       "      <td>19.0</td>\n",
       "    </tr>\n",
       "    <tr>\n",
       "      <th>1076201</th>\n",
       "      <td>C_ID_9f6052e4bb</td>\n",
       "      <td>2</td>\n",
       "      <td>2</td>\n",
       "      <td>0</td>\n",
       "      <td>251.0</td>\n",
       "      <td>N</td>\n",
       "      <td>1</td>\n",
       "      <td>B</td>\n",
       "      <td>813</td>\n",
       "      <td>M_ID_89d619dfd3</td>\n",
       "      <td>-5.0</td>\n",
       "      <td>-0.702955</td>\n",
       "      <td>0.0</td>\n",
       "      <td>3.0</td>\n",
       "      <td>8.0</td>\n",
       "      <td>29.0</td>\n",
       "    </tr>\n",
       "  </tbody>\n",
       "</table>\n",
       "</div>"
      ],
      "text/plain": [
       "                 card_id  feature_1  feature_2  feature_3  city_id category_1  \\\n",
       "1950195  C_ID_82d92e06f8          5          1          1    223.0          N   \n",
       "2009749  C_ID_4f500e4e9e          4          2          0     19.0          N   \n",
       "1076201  C_ID_9f6052e4bb          2          2          0    251.0          N   \n",
       "\n",
       "         installments category_3  merchant_category_id      merchant_id  \\\n",
       "1950195             1          B                   307  M_ID_7ebbaa4a05   \n",
       "2009749             1          B                   307  M_ID_f73a3fbf30   \n",
       "1076201             1          B                   813  M_ID_89d619dfd3   \n",
       "\n",
       "         month_lag  purchase_amount  purchase_date  category_2  state_id  \\\n",
       "1950195       -5.0        -0.697726            0.0         5.0      21.0   \n",
       "2009749       -4.0        -0.716855            0.0         1.0       9.0   \n",
       "1076201       -5.0        -0.702955            0.0         3.0       8.0   \n",
       "\n",
       "         subsector_id  \n",
       "1950195          19.0  \n",
       "2009749          19.0  \n",
       "1076201          29.0  "
      ]
     },
     "execution_count": 12,
     "metadata": {},
     "output_type": "execute_result"
    }
   ],
   "source": [
    "X_train.head(3)"
   ]
  },
  {
   "cell_type": "markdown",
   "metadata": {},
   "source": [
    "<h3> Root Mean Square Error </h3>\n",
    "\n",
    "We'll be using the root mean squared error as our evaluation metric:\n",
    "\n",
    "$$\n",
    "RMSE(y, \\hat{y}) = \\sqrt{ \\frac{1}{N} \\sum_{i=1}^N (y_i - \\hat{y}_i)^2 }\n",
    "$$\n"
   ]
  },
  {
   "cell_type": "code",
   "execution_count": 13,
   "metadata": {},
   "outputs": [],
   "source": [
    "def root_mean_squared_error(y_true, y_pred):\n",
    "    \"\"\"Root mean squared error regression loss\"\"\"\n",
    "    return np.sqrt(np.mean(np.square(y_true-y_pred)))"
   ]
  },
  {
   "cell_type": "code",
   "execution_count": 14,
   "metadata": {},
   "outputs": [
    {
     "data": {
      "text/plain": [
       "1.2788985542843374"
      ]
     },
     "execution_count": 14,
     "metadata": {},
     "output_type": "execute_result"
    }
   ],
   "source": [
    "root_mean_squared_error(np.mean(y_train), y_train)"
   ]
  },
  {
   "cell_type": "markdown",
   "metadata": {},
   "source": [
    "OK, so our models should for sure be getting RMSE values lower than 1.28\n",
    "\n",
    "We have also checked with 8 million data points and found out that more or less both the RMSE looks same.\n",
    "\n",
    "So, we condidering with 4 Million data points for better computation."
   ]
  },
  {
   "cell_type": "markdown",
   "metadata": {},
   "source": [
    " To apply model on top of it ... \n",
    "Let us convert all the features either in to Numerical"
   ]
  },
  {
   "cell_type": "code",
   "execution_count": 95,
   "metadata": {},
   "outputs": [
    {
     "name": "stdout",
     "output_type": "stream",
     "text": [
      "<class 'pandas.core.frame.DataFrame'>\n",
      "Int64Index: 400000 entries, 700654 to 91880\n",
      "Data columns (total 17 columns):\n",
      " #   Column                Non-Null Count   Dtype  \n",
      "---  ------                --------------   -----  \n",
      " 0   card_id               400000 non-null  object \n",
      " 1   feature_1             400000 non-null  int16  \n",
      " 2   feature_2             400000 non-null  int16  \n",
      " 3   feature_3             400000 non-null  int16  \n",
      " 4   target                400000 non-null  float64\n",
      " 5   city_id               400000 non-null  float64\n",
      " 6   category_1            400000 non-null  float64\n",
      " 7   installments          400000 non-null  int16  \n",
      " 8   category_3            400000 non-null  float32\n",
      " 9   merchant_category_id  400000 non-null  int16  \n",
      " 10  merchant_id           400000 non-null  object \n",
      " 11  month_lag             400000 non-null  float64\n",
      " 12  purchase_amount       400000 non-null  float64\n",
      " 13  purchase_date         400000 non-null  float64\n",
      " 14  category_2            400000 non-null  float32\n",
      " 15  state_id              400000 non-null  float64\n",
      " 16  subsector_id          400000 non-null  float64\n",
      "dtypes: float32(2), float64(8), int16(5), object(2)\n",
      "memory usage: 40.4+ MB\n"
     ]
    }
   ],
   "source": [
    "elo_trn.info()"
   ]
  },
  {
   "cell_type": "markdown",
   "metadata": {},
   "source": [
    "Most of the datatypes to be changed accordingly to the problem.\n",
    "Since, we are converting the most of the featureds "
   ]
  },
  {
   "cell_type": "markdown",
   "metadata": {},
   "source": [
    "first active month needs to be converted in to Numerical.\n",
    "\n",
    "\n",
    "'card_id' needs to be converted in to Numerical.\n"
   ]
  },
  {
   "cell_type": "markdown",
   "metadata": {},
   "source": [
    "<h3> Data pre-processing </h3>"
   ]
  },
  {
   "cell_type": "markdown",
   "metadata": {},
   "source": [
    "The 'card_id's always start with C_ID_."
   ]
  },
  {
   "cell_type": "code",
   "execution_count": 15,
   "metadata": {},
   "outputs": [
    {
     "data": {
      "text/plain": [
       "array([15])"
      ]
     },
     "execution_count": 15,
     "metadata": {},
     "output_type": "execute_result"
    }
   ],
   "source": [
    "#https://stackoverflow.com/questions/51102205/how-to-know-the-labels-assigned-by-astypecategory-cat-codes\n",
    "elo_trn['card_id'].apply(len).unique()"
   ]
  },
  {
   "cell_type": "code",
   "execution_count": 16,
   "metadata": {},
   "outputs": [
    {
     "data": {
      "text/plain": [
       "239539     0e04880b40\n",
       "7747528    35a963b6a2\n",
       "4943362    5d363b9bcf\n",
       "6327733    91e8e78f76\n",
       "2796519    50efa6942b\n",
       "4921010    182ce31cf6\n",
       "6568441    6cd9169601\n",
       "4918952    a2ebd032e7\n",
       "533326     b16d7133af\n",
       "6877993    276c915fb2\n",
       "Name: card_id, dtype: object"
      ]
     },
     "execution_count": 16,
     "metadata": {},
     "output_type": "execute_result"
    }
   ],
   "source": [
    "#https://www.geeksforgeeks.org/python-pandas-series-str-slice/\n",
    "elo_trn['card_id'].str.slice(5, 15).sample(10)"
   ]
  },
  {
   "cell_type": "markdown",
   "metadata": {},
   "source": [
    "Since, C_ID_ is a common part for all the line items in card_id, we are removing it just because it is not necessary to be retained in the model.\n",
    "\n",
    "-if we remove the C_ID_ part from the card_id almost the remaining set of numbers looks in the range of 0-9,a-f.\n"
   ]
  },
  {
   "cell_type": "code",
   "execution_count": 17,
   "metadata": {},
   "outputs": [
    {
     "data": {
      "text/plain": [
       "True"
      ]
     },
     "execution_count": 17,
     "metadata": {},
     "output_type": "execute_result"
    }
   ],
   "source": [
    "(elo_trn['card_id']\n",
    " .str.slice(5, 15)\n",
    " .apply(lambda x: all(f in '0123456789abcdef' for f in x))\n",
    " .all())"
   ]
  },
  {
   "cell_type": "code",
   "execution_count": 18,
   "metadata": {},
   "outputs": [],
   "source": [
    "#https://stackoverflow.com/questions/51102205/how-to-know-the-labels-assigned-by-astypecategory-cat-codes\n",
    "card_id_map = dict(zip(\n",
    "    elo_trn['card_id'].values,\n",
    "    elo_trn['card_id'].astype('category').cat.codes.values\n",
    "))"
   ]
  },
  {
   "cell_type": "code",
   "execution_count": 19,
   "metadata": {},
   "outputs": [
    {
     "name": "stderr",
     "output_type": "stream",
     "text": [
      "/opt/conda/lib/python3.7/site-packages/ipykernel_launcher.py:2: SettingWithCopyWarning: \n",
      "A value is trying to be set on a copy of a slice from a DataFrame.\n",
      "Try using .loc[row_indexer,col_indexer] = value instead\n",
      "\n",
      "See the caveats in the documentation: https://pandas.pydata.org/pandas-docs/stable/user_guide/indexing.html#returning-a-view-versus-a-copy\n",
      "  \n"
     ]
    }
   ],
   "source": [
    "# Map the values\n",
    "elo_trn['card_id'] = elo_trn['card_id'].map(card_id_map).astype('uint32')"
   ]
  },
  {
   "cell_type": "code",
   "execution_count": 20,
   "metadata": {},
   "outputs": [
    {
     "name": "stderr",
     "output_type": "stream",
     "text": [
      "/opt/conda/lib/python3.7/site-packages/ipykernel_launcher.py:2: SettingWithCopyWarning: \n",
      "A value is trying to be set on a copy of a slice from a DataFrame.\n",
      "Try using .loc[row_indexer,col_indexer] = value instead\n",
      "\n",
      "See the caveats in the documentation: https://pandas.pydata.org/pandas-docs/stable/user_guide/indexing.html#returning-a-view-versus-a-copy\n",
      "  \n",
      "/opt/conda/lib/python3.7/site-packages/ipykernel_launcher.py:3: SettingWithCopyWarning: \n",
      "A value is trying to be set on a copy of a slice from a DataFrame.\n",
      "Try using .loc[row_indexer,col_indexer] = value instead\n",
      "\n",
      "See the caveats in the documentation: https://pandas.pydata.org/pandas-docs/stable/user_guide/indexing.html#returning-a-view-versus-a-copy\n",
      "  This is separate from the ipykernel package so we can avoid doing imports until\n"
     ]
    }
   ],
   "source": [
    "# Map the values\n",
    "X_train['card_id'] = X_train['card_id'].map(card_id_map).astype('uint32')\n",
    "X_test['card_id'] = X_test['card_id'].map(card_id_map).astype('uint32')"
   ]
  },
  {
   "cell_type": "markdown",
   "metadata": {},
   "source": [
    "Now, converting 'Merchant_id' in the same way as 'card_id'\n",
    "\n",
    "\n",
    "The 'merchant_id' always start with M_ID_."
   ]
  },
  {
   "cell_type": "code",
   "execution_count": 21,
   "metadata": {},
   "outputs": [
    {
     "data": {
      "text/plain": [
       "array([15])"
      ]
     },
     "execution_count": 21,
     "metadata": {},
     "output_type": "execute_result"
    }
   ],
   "source": [
    "#https://stackoverflow.com/questions/51102205/how-to-know-the-labels-assigned-by-astypecategory-cat-codes\n",
    "elo_trn['merchant_id'].apply(len).unique()"
   ]
  },
  {
   "cell_type": "code",
   "execution_count": 22,
   "metadata": {},
   "outputs": [],
   "source": [
    "#https://stackoverflow.com/questions/51102205/how-to-know-the-labels-assigned-by-astypecategory-cat-codes\n",
    "merchant_id_map = dict(zip(\n",
    "    elo_trn['merchant_id'].values,\n",
    "    elo_trn['merchant_id'].astype('category').cat.codes.values\n",
    "))"
   ]
  },
  {
   "cell_type": "code",
   "execution_count": 23,
   "metadata": {},
   "outputs": [
    {
     "name": "stderr",
     "output_type": "stream",
     "text": [
      "/opt/conda/lib/python3.7/site-packages/ipykernel_launcher.py:2: SettingWithCopyWarning: \n",
      "A value is trying to be set on a copy of a slice from a DataFrame.\n",
      "Try using .loc[row_indexer,col_indexer] = value instead\n",
      "\n",
      "See the caveats in the documentation: https://pandas.pydata.org/pandas-docs/stable/user_guide/indexing.html#returning-a-view-versus-a-copy\n",
      "  \n"
     ]
    }
   ],
   "source": [
    "# Map the values\n",
    "elo_trn['merchant_id'] = elo_trn['merchant_id'].map(merchant_id_map).astype('uint32')"
   ]
  },
  {
   "cell_type": "code",
   "execution_count": 24,
   "metadata": {},
   "outputs": [
    {
     "name": "stderr",
     "output_type": "stream",
     "text": [
      "/opt/conda/lib/python3.7/site-packages/ipykernel_launcher.py:2: SettingWithCopyWarning: \n",
      "A value is trying to be set on a copy of a slice from a DataFrame.\n",
      "Try using .loc[row_indexer,col_indexer] = value instead\n",
      "\n",
      "See the caveats in the documentation: https://pandas.pydata.org/pandas-docs/stable/user_guide/indexing.html#returning-a-view-versus-a-copy\n",
      "  \n",
      "/opt/conda/lib/python3.7/site-packages/ipykernel_launcher.py:3: SettingWithCopyWarning: \n",
      "A value is trying to be set on a copy of a slice from a DataFrame.\n",
      "Try using .loc[row_indexer,col_indexer] = value instead\n",
      "\n",
      "See the caveats in the documentation: https://pandas.pydata.org/pandas-docs/stable/user_guide/indexing.html#returning-a-view-versus-a-copy\n",
      "  This is separate from the ipykernel package so we can avoid doing imports until\n"
     ]
    }
   ],
   "source": [
    "# Map the values\n",
    "X_train['merchant_id'] = X_train['merchant_id'].map(merchant_id_map).astype('uint32')\n",
    "X_test['merchant_id'] = X_test['merchant_id'].map(merchant_id_map).astype('uint32')"
   ]
  },
  {
   "cell_type": "code",
   "execution_count": 25,
   "metadata": {},
   "outputs": [
    {
     "data": {
      "text/html": [
       "<div>\n",
       "<style scoped>\n",
       "    .dataframe tbody tr th:only-of-type {\n",
       "        vertical-align: middle;\n",
       "    }\n",
       "\n",
       "    .dataframe tbody tr th {\n",
       "        vertical-align: top;\n",
       "    }\n",
       "\n",
       "    .dataframe thead th {\n",
       "        text-align: right;\n",
       "    }\n",
       "</style>\n",
       "<table border=\"1\" class=\"dataframe\">\n",
       "  <thead>\n",
       "    <tr style=\"text-align: right;\">\n",
       "      <th></th>\n",
       "      <th>card_id</th>\n",
       "      <th>feature_1</th>\n",
       "      <th>feature_2</th>\n",
       "      <th>feature_3</th>\n",
       "      <th>target</th>\n",
       "      <th>city_id</th>\n",
       "      <th>category_1</th>\n",
       "      <th>installments</th>\n",
       "      <th>category_3</th>\n",
       "      <th>merchant_category_id</th>\n",
       "      <th>merchant_id</th>\n",
       "      <th>month_lag</th>\n",
       "      <th>purchase_amount</th>\n",
       "      <th>purchase_date</th>\n",
       "      <th>category_2</th>\n",
       "      <th>state_id</th>\n",
       "      <th>subsector_id</th>\n",
       "    </tr>\n",
       "  </thead>\n",
       "  <tbody>\n",
       "    <tr>\n",
       "      <th>1680165</th>\n",
       "      <td>39413</td>\n",
       "      <td>4</td>\n",
       "      <td>1</td>\n",
       "      <td>0</td>\n",
       "      <td>0.790527</td>\n",
       "      <td>14.0</td>\n",
       "      <td>N</td>\n",
       "      <td>1</td>\n",
       "      <td>B</td>\n",
       "      <td>842</td>\n",
       "      <td>7584</td>\n",
       "      <td>-1.0</td>\n",
       "      <td>-0.695066</td>\n",
       "      <td>0.0</td>\n",
       "      <td>5.0</td>\n",
       "      <td>20.0</td>\n",
       "      <td>37.0</td>\n",
       "    </tr>\n",
       "    <tr>\n",
       "      <th>3145610</th>\n",
       "      <td>43022</td>\n",
       "      <td>3</td>\n",
       "      <td>1</td>\n",
       "      <td>1</td>\n",
       "      <td>-0.902832</td>\n",
       "      <td>-1.0</td>\n",
       "      <td>Y</td>\n",
       "      <td>1</td>\n",
       "      <td>B</td>\n",
       "      <td>879</td>\n",
       "      <td>51385</td>\n",
       "      <td>-3.0</td>\n",
       "      <td>-0.732648</td>\n",
       "      <td>0.0</td>\n",
       "      <td>5.0</td>\n",
       "      <td>-1.0</td>\n",
       "      <td>29.0</td>\n",
       "    </tr>\n",
       "    <tr>\n",
       "      <th>693405</th>\n",
       "      <td>56963</td>\n",
       "      <td>2</td>\n",
       "      <td>3</td>\n",
       "      <td>0</td>\n",
       "      <td>-1.042969</td>\n",
       "      <td>19.0</td>\n",
       "      <td>N</td>\n",
       "      <td>1</td>\n",
       "      <td>B</td>\n",
       "      <td>507</td>\n",
       "      <td>82994</td>\n",
       "      <td>0.0</td>\n",
       "      <td>-0.220980</td>\n",
       "      <td>0.0</td>\n",
       "      <td>1.0</td>\n",
       "      <td>9.0</td>\n",
       "      <td>14.0</td>\n",
       "    </tr>\n",
       "    <tr>\n",
       "      <th>8682929</th>\n",
       "      <td>19303</td>\n",
       "      <td>0</td>\n",
       "      <td>0</td>\n",
       "      <td>0</td>\n",
       "      <td>0.000000</td>\n",
       "      <td>-1.0</td>\n",
       "      <td>Y</td>\n",
       "      <td>3</td>\n",
       "      <td>C</td>\n",
       "      <td>210</td>\n",
       "      <td>34713</td>\n",
       "      <td>1.0</td>\n",
       "      <td>-0.546387</td>\n",
       "      <td>0.0</td>\n",
       "      <td>1.0</td>\n",
       "      <td>-1.0</td>\n",
       "      <td>35.0</td>\n",
       "    </tr>\n",
       "    <tr>\n",
       "      <th>2487093</th>\n",
       "      <td>82755</td>\n",
       "      <td>2</td>\n",
       "      <td>1</td>\n",
       "      <td>0</td>\n",
       "      <td>0.394287</td>\n",
       "      <td>256.0</td>\n",
       "      <td>N</td>\n",
       "      <td>1</td>\n",
       "      <td>B</td>\n",
       "      <td>560</td>\n",
       "      <td>77736</td>\n",
       "      <td>-5.0</td>\n",
       "      <td>-0.734361</td>\n",
       "      <td>0.0</td>\n",
       "      <td>5.0</td>\n",
       "      <td>5.0</td>\n",
       "      <td>34.0</td>\n",
       "    </tr>\n",
       "  </tbody>\n",
       "</table>\n",
       "</div>"
      ],
      "text/plain": [
       "         card_id  feature_1  feature_2  feature_3    target  city_id  \\\n",
       "1680165    39413          4          1          0  0.790527     14.0   \n",
       "3145610    43022          3          1          1 -0.902832     -1.0   \n",
       "693405     56963          2          3          0 -1.042969     19.0   \n",
       "8682929    19303          0          0          0  0.000000     -1.0   \n",
       "2487093    82755          2          1          0  0.394287    256.0   \n",
       "\n",
       "        category_1  installments category_3  merchant_category_id  \\\n",
       "1680165          N             1          B                   842   \n",
       "3145610          Y             1          B                   879   \n",
       "693405           N             1          B                   507   \n",
       "8682929          Y             3          C                   210   \n",
       "2487093          N             1          B                   560   \n",
       "\n",
       "         merchant_id  month_lag  purchase_amount  purchase_date  category_2  \\\n",
       "1680165         7584       -1.0        -0.695066            0.0         5.0   \n",
       "3145610        51385       -3.0        -0.732648            0.0         5.0   \n",
       "693405         82994        0.0        -0.220980            0.0         1.0   \n",
       "8682929        34713        1.0        -0.546387            0.0         1.0   \n",
       "2487093        77736       -5.0        -0.734361            0.0         5.0   \n",
       "\n",
       "         state_id  subsector_id  \n",
       "1680165      20.0          37.0  \n",
       "3145610      -1.0          29.0  \n",
       "693405        9.0          14.0  \n",
       "8682929      -1.0          35.0  \n",
       "2487093       5.0          34.0  "
      ]
     },
     "execution_count": 25,
     "metadata": {},
     "output_type": "execute_result"
    }
   ],
   "source": [
    "elo_trn.head()"
   ]
  },
  {
   "cell_type": "code",
   "execution_count": 26,
   "metadata": {},
   "outputs": [
    {
     "data": {
      "text/html": [
       "<div>\n",
       "<style scoped>\n",
       "    .dataframe tbody tr th:only-of-type {\n",
       "        vertical-align: middle;\n",
       "    }\n",
       "\n",
       "    .dataframe tbody tr th {\n",
       "        vertical-align: top;\n",
       "    }\n",
       "\n",
       "    .dataframe thead th {\n",
       "        text-align: right;\n",
       "    }\n",
       "</style>\n",
       "<table border=\"1\" class=\"dataframe\">\n",
       "  <thead>\n",
       "    <tr style=\"text-align: right;\">\n",
       "      <th></th>\n",
       "      <th>card_id</th>\n",
       "      <th>feature_1</th>\n",
       "      <th>feature_2</th>\n",
       "      <th>feature_3</th>\n",
       "      <th>city_id</th>\n",
       "      <th>category_1</th>\n",
       "      <th>installments</th>\n",
       "      <th>category_3</th>\n",
       "      <th>merchant_category_id</th>\n",
       "      <th>merchant_id</th>\n",
       "      <th>month_lag</th>\n",
       "      <th>purchase_amount</th>\n",
       "      <th>purchase_date</th>\n",
       "      <th>category_2</th>\n",
       "      <th>state_id</th>\n",
       "      <th>subsector_id</th>\n",
       "    </tr>\n",
       "  </thead>\n",
       "  <tbody>\n",
       "    <tr>\n",
       "      <th>1950195</th>\n",
       "      <td>46674</td>\n",
       "      <td>5</td>\n",
       "      <td>1</td>\n",
       "      <td>1</td>\n",
       "      <td>223.0</td>\n",
       "      <td>N</td>\n",
       "      <td>1</td>\n",
       "      <td>B</td>\n",
       "      <td>307</td>\n",
       "      <td>44809</td>\n",
       "      <td>-5.0</td>\n",
       "      <td>-0.697726</td>\n",
       "      <td>0.0</td>\n",
       "      <td>5.0</td>\n",
       "      <td>21.0</td>\n",
       "      <td>19.0</td>\n",
       "    </tr>\n",
       "    <tr>\n",
       "      <th>2009749</th>\n",
       "      <td>28476</td>\n",
       "      <td>4</td>\n",
       "      <td>2</td>\n",
       "      <td>0</td>\n",
       "      <td>19.0</td>\n",
       "      <td>N</td>\n",
       "      <td>1</td>\n",
       "      <td>B</td>\n",
       "      <td>307</td>\n",
       "      <td>87061</td>\n",
       "      <td>-4.0</td>\n",
       "      <td>-0.716855</td>\n",
       "      <td>0.0</td>\n",
       "      <td>1.0</td>\n",
       "      <td>9.0</td>\n",
       "      <td>19.0</td>\n",
       "    </tr>\n",
       "    <tr>\n",
       "      <th>1076201</th>\n",
       "      <td>56851</td>\n",
       "      <td>2</td>\n",
       "      <td>2</td>\n",
       "      <td>0</td>\n",
       "      <td>251.0</td>\n",
       "      <td>N</td>\n",
       "      <td>1</td>\n",
       "      <td>B</td>\n",
       "      <td>813</td>\n",
       "      <td>48736</td>\n",
       "      <td>-5.0</td>\n",
       "      <td>-0.702955</td>\n",
       "      <td>0.0</td>\n",
       "      <td>3.0</td>\n",
       "      <td>8.0</td>\n",
       "      <td>29.0</td>\n",
       "    </tr>\n",
       "    <tr>\n",
       "      <th>882404</th>\n",
       "      <td>82193</td>\n",
       "      <td>2</td>\n",
       "      <td>1</td>\n",
       "      <td>0</td>\n",
       "      <td>12.0</td>\n",
       "      <td>N</td>\n",
       "      <td>1</td>\n",
       "      <td>B</td>\n",
       "      <td>360</td>\n",
       "      <td>51763</td>\n",
       "      <td>-5.0</td>\n",
       "      <td>-0.716479</td>\n",
       "      <td>0.0</td>\n",
       "      <td>5.0</td>\n",
       "      <td>5.0</td>\n",
       "      <td>34.0</td>\n",
       "    </tr>\n",
       "    <tr>\n",
       "      <th>4827284</th>\n",
       "      <td>14255</td>\n",
       "      <td>4</td>\n",
       "      <td>1</td>\n",
       "      <td>0</td>\n",
       "      <td>283.0</td>\n",
       "      <td>N</td>\n",
       "      <td>1</td>\n",
       "      <td>B</td>\n",
       "      <td>884</td>\n",
       "      <td>75568</td>\n",
       "      <td>-1.0</td>\n",
       "      <td>-0.536837</td>\n",
       "      <td>0.0</td>\n",
       "      <td>1.0</td>\n",
       "      <td>9.0</td>\n",
       "      <td>27.0</td>\n",
       "    </tr>\n",
       "  </tbody>\n",
       "</table>\n",
       "</div>"
      ],
      "text/plain": [
       "         card_id  feature_1  feature_2  feature_3  city_id category_1  \\\n",
       "1950195    46674          5          1          1    223.0          N   \n",
       "2009749    28476          4          2          0     19.0          N   \n",
       "1076201    56851          2          2          0    251.0          N   \n",
       "882404     82193          2          1          0     12.0          N   \n",
       "4827284    14255          4          1          0    283.0          N   \n",
       "\n",
       "         installments category_3  merchant_category_id  merchant_id  \\\n",
       "1950195             1          B                   307        44809   \n",
       "2009749             1          B                   307        87061   \n",
       "1076201             1          B                   813        48736   \n",
       "882404              1          B                   360        51763   \n",
       "4827284             1          B                   884        75568   \n",
       "\n",
       "         month_lag  purchase_amount  purchase_date  category_2  state_id  \\\n",
       "1950195       -5.0        -0.697726            0.0         5.0      21.0   \n",
       "2009749       -4.0        -0.716855            0.0         1.0       9.0   \n",
       "1076201       -5.0        -0.702955            0.0         3.0       8.0   \n",
       "882404        -5.0        -0.716479            0.0         5.0       5.0   \n",
       "4827284       -1.0        -0.536837            0.0         1.0       9.0   \n",
       "\n",
       "         subsector_id  \n",
       "1950195          19.0  \n",
       "2009749          19.0  \n",
       "1076201          29.0  \n",
       "882404           34.0  \n",
       "4827284          27.0  "
      ]
     },
     "execution_count": 26,
     "metadata": {},
     "output_type": "execute_result"
    }
   ],
   "source": [
    "X_train.head()"
   ]
  },
  {
   "cell_type": "markdown",
   "metadata": {},
   "source": [
    "<h3> Converting Boolean in to Numerical </h3>"
   ]
  },
  {
   "cell_type": "code",
   "execution_count": 27,
   "metadata": {},
   "outputs": [
    {
     "name": "stderr",
     "output_type": "stream",
     "text": [
      "/opt/conda/lib/python3.7/site-packages/ipykernel_launcher.py:4: SettingWithCopyWarning: \n",
      "A value is trying to be set on a copy of a slice from a DataFrame.\n",
      "Try using .loc[row_indexer,col_indexer] = value instead\n",
      "\n",
      "See the caveats in the documentation: https://pandas.pydata.org/pandas-docs/stable/user_guide/indexing.html#returning-a-view-versus-a-copy\n",
      "  after removing the cwd from sys.path.\n",
      "/opt/conda/lib/python3.7/site-packages/ipykernel_launcher.py:5: SettingWithCopyWarning: \n",
      "A value is trying to be set on a copy of a slice from a DataFrame.\n",
      "Try using .loc[row_indexer,col_indexer] = value instead\n",
      "\n",
      "See the caveats in the documentation: https://pandas.pydata.org/pandas-docs/stable/user_guide/indexing.html#returning-a-view-versus-a-copy\n",
      "  \"\"\"\n",
      "/opt/conda/lib/python3.7/site-packages/ipykernel_launcher.py:6: SettingWithCopyWarning: \n",
      "A value is trying to be set on a copy of a slice from a DataFrame.\n",
      "Try using .loc[row_indexer,col_indexer] = value instead\n",
      "\n",
      "See the caveats in the documentation: https://pandas.pydata.org/pandas-docs/stable/user_guide/indexing.html#returning-a-view-versus-a-copy\n",
      "  \n"
     ]
    }
   ],
   "source": [
    "#converting boolean features in to Numerical\n",
    "#https://datascience.stackexchange.com/questions/42465/do-i-need-to-convert-booleans-to-ints-to-enter-them-in-a-machine-learning-algori\n",
    "#hist_f['authorized_flag'] = hist_f['authorized_flag'].map({'Y': 1, 'N': 0})\n",
    "elo_trn['category_1'] = elo_trn['category_1'].map({'Y': 1, 'N': 0})\n",
    "X_train['category_1'] = X_train['category_1'].map({'Y': 1, 'N': 0})\n",
    "X_test['category_1'] = X_test['category_1'].map({'Y': 1, 'N': 0})"
   ]
  },
  {
   "cell_type": "code",
   "execution_count": 28,
   "metadata": {},
   "outputs": [
    {
     "name": "stderr",
     "output_type": "stream",
     "text": [
      "/opt/conda/lib/python3.7/site-packages/ipykernel_launcher.py:4: SettingWithCopyWarning: \n",
      "A value is trying to be set on a copy of a slice from a DataFrame.\n",
      "Try using .loc[row_indexer,col_indexer] = value instead\n",
      "\n",
      "See the caveats in the documentation: https://pandas.pydata.org/pandas-docs/stable/user_guide/indexing.html#returning-a-view-versus-a-copy\n",
      "  after removing the cwd from sys.path.\n",
      "/opt/conda/lib/python3.7/site-packages/ipykernel_launcher.py:5: SettingWithCopyWarning: \n",
      "A value is trying to be set on a copy of a slice from a DataFrame.\n",
      "Try using .loc[row_indexer,col_indexer] = value instead\n",
      "\n",
      "See the caveats in the documentation: https://pandas.pydata.org/pandas-docs/stable/user_guide/indexing.html#returning-a-view-versus-a-copy\n",
      "  \"\"\"\n",
      "/opt/conda/lib/python3.7/site-packages/ipykernel_launcher.py:6: SettingWithCopyWarning: \n",
      "A value is trying to be set on a copy of a slice from a DataFrame.\n",
      "Try using .loc[row_indexer,col_indexer] = value instead\n",
      "\n",
      "See the caveats in the documentation: https://pandas.pydata.org/pandas-docs/stable/user_guide/indexing.html#returning-a-view-versus-a-copy\n",
      "  \n"
     ]
    }
   ],
   "source": [
    "#converting boolean features in to Numerical\n",
    "#https://datascience.stackexchange.com/questions/42465/do-i-need-to-convert-booleans-to-ints-to-enter-them-in-a-machine-learning-algori\n",
    "#hist_f['authorized_flag'] = hist_f['authorized_flag'].map({'Y': 1, 'N': 0})\n",
    "elo_trn['category_3'] = elo_trn['category_3'].map({'A':0, 'B':1, 'C':2})\n",
    "X_train['category_3'] = X_train['category_3'].map({'A':0, 'B':1, 'C':2})\n",
    "X_test['category_3'] = X_test['category_3'].map({'A':0, 'B':1, 'C':2})"
   ]
  },
  {
   "cell_type": "markdown",
   "metadata": {},
   "source": [
    "<h2> Applying Machine Learning models </h2>"
   ]
  },
  {
   "cell_type": "markdown",
   "metadata": {},
   "source": [
    "<h3> 1) Xbgoost Model </h3>"
   ]
  },
  {
   "cell_type": "markdown",
   "metadata": {},
   "source": [
    "<h3> Hyperparameter Tuning </h3>"
   ]
  },
  {
   "cell_type": "code",
   "execution_count": 31,
   "metadata": {},
   "outputs": [
    {
     "data": {
      "text/plain": [
       "RandomizedSearchCV(cv=5, error_score=nan,\n",
       "                   estimator=XGBRegressor(base_score=None, booster=None,\n",
       "                                          class_weight='balanced',\n",
       "                                          colsample_bylevel=None,\n",
       "                                          colsample_bynode=None,\n",
       "                                          colsample_bytree=None, gamma=None,\n",
       "                                          gpu_id=None, importance_type='gain',\n",
       "                                          interaction_constraints=None,\n",
       "                                          learning_rate=None,\n",
       "                                          max_delta_step=None, max_depth=None,\n",
       "                                          min_child_weight=None, missing=nan,\n",
       "                                          mono...\n",
       "                                          scale_pos_weight=None, subsample=None,\n",
       "                                          tree_method=None,\n",
       "                                          validate_parameters=False,\n",
       "                                          verbosity=None),\n",
       "                   iid='deprecated', n_iter=10, n_jobs=None,\n",
       "                   param_distributions={'max_depth': [2, 3, 4, 5, 6, 7, 8, 9,\n",
       "                                                      10],\n",
       "                                        'n_estimators': [5, 10, 50, 100, 200,\n",
       "                                                         500, 1000]},\n",
       "                   pre_dispatch='2*n_jobs', random_state=None, refit=True,\n",
       "                   return_train_score=False, scoring='neg_mean_squared_error',\n",
       "                   verbose=0)"
      ]
     },
     "execution_count": 31,
     "metadata": {},
     "output_type": "execute_result"
    }
   ],
   "source": [
    "from sklearn.model_selection import RandomizedSearchCV\n",
    "import xgboost as xgb \n",
    "parameters2 = {'n_estimators': [5,10,50,100,200,500,1000] ,\n",
    "             'max_depth' :  [2,3,4,5,6,7,8,9,10]}\n",
    "\n",
    "\n",
    "XGB_rg = xgb.XGBRegressor(random_state=11,class_weight='balanced')\n",
    "\n",
    "XGB_rg2=RandomizedSearchCV(XGB_rg ,param_distributions = parameters2, scoring=\"neg_mean_squared_error\", cv=5)\n",
    "XGB_rg2.fit(X_train,y_train)"
   ]
  },
  {
   "cell_type": "code",
   "execution_count": 32,
   "metadata": {},
   "outputs": [
    {
     "name": "stdout",
     "output_type": "stream",
     "text": [
      "-1.2954496745193524\n",
      "1000\n",
      "6\n"
     ]
    }
   ],
   "source": [
    "#https://scikit-learn.org/stable/modules/generated/sklearn.model_selection.GridSearchCV.html\n",
    "a2=XGB_rg2.best_params_['n_estimators']\n",
    "p2 = XGB_rg2.best_params_['max_depth']\n",
    "print(XGB_rg2.best_score_)\n",
    "print(a2)\n",
    "print(p2)"
   ]
  },
  {
   "cell_type": "code",
   "execution_count": 33,
   "metadata": {},
   "outputs": [],
   "source": [
    "#Calculating y_train_pred and y_test_pred\n",
    "y_train_pred = XGB_rg2.predict(X_train)\n",
    "y_test_pred = XGB_rg2.predict(X_test)"
   ]
  },
  {
   "cell_type": "code",
   "execution_count": 34,
   "metadata": {},
   "outputs": [],
   "source": [
    "#Calculating rsme and mape scores by using the utility function\n",
    "rmse_train = root_mean_squared_error(np.mean(y_train), y_train_pred)\n",
    "rmse_test = root_mean_squared_error(np.mean(y_test), y_test_pred)"
   ]
  },
  {
   "cell_type": "code",
   "execution_count": 35,
   "metadata": {},
   "outputs": [
    {
     "name": "stdout",
     "output_type": "stream",
     "text": [
      "Train RMSE :  0.57682365\n",
      "\n",
      "---------------------------------------------\n",
      "Test RMSE :  0.48889488\n"
     ]
    }
   ],
   "source": [
    "print('Train RMSE : ', rmse_train)\n",
    "print('\\n'+'-'*45)\n",
    "print('Test RMSE : ', rmse_test)"
   ]
  },
  {
   "cell_type": "markdown",
   "metadata": {},
   "source": [
    "-There is a quite difference between Train and Test RMSE values, seems like an overfitting."
   ]
  },
  {
   "cell_type": "code",
   "execution_count": 36,
   "metadata": {},
   "outputs": [
    {
     "data": {
      "text/plain": [
       "XGBRegressor(base_score=0.5, booster=None, colsample_bylevel=1,\n",
       "             colsample_bynode=1, colsample_bytree=1, gamma=0, gpu_id=-1,\n",
       "             importance_type='gain', interaction_constraints=None,\n",
       "             learning_rate=0.300000012, max_delta_step=0, max_depth=6,\n",
       "             min_child_weight=1, missing=nan, monotone_constraints=None,\n",
       "             n_estimators=1000, n_jobs=13, num_parallel_tree=1,\n",
       "             objective='reg:squarederror', random_state=15, reg_alpha=0,\n",
       "             reg_lambda=1, scale_pos_weight=1, silent=False, subsample=1,\n",
       "             tree_method=None, validate_parameters=False, verbosity=None)"
      ]
     },
     "execution_count": 36,
     "metadata": {},
     "output_type": "execute_result"
    }
   ],
   "source": [
    "# initialize Our first XGBoost model...\n",
    "first_xgb = xgb.XGBRegressor(silent=False, n_jobs=13, random_state=15, n_estimators=a2, max_depth=p2)\n",
    "first_xgb.fit(X_train,y_train)"
   ]
  },
  {
   "cell_type": "code",
   "execution_count": 37,
   "metadata": {},
   "outputs": [
    {
     "data": {
      "image/png": "[encoded data removed]",
      "text/plain": [
       "<Figure size 432x288 with 1 Axes>"
      ]
     },
     "metadata": {
      "needs_background": "light"
     },
     "output_type": "display_data"
    }
   ],
   "source": [
    "xgb.plot_importance(first_xgb)\n",
    "plt.show()"
   ]
  },
  {
   "cell_type": "markdown",
   "metadata": {},
   "source": [
    "<h3> 2) Random Forest </h3>"
   ]
  },
  {
   "cell_type": "markdown",
   "metadata": {},
   "source": [
    "<h4> Hyperparameter Tuning </h4>"
   ]
  },
  {
   "cell_type": "code",
   "execution_count": 39,
   "metadata": {},
   "outputs": [
    {
     "name": "stdout",
     "output_type": "stream",
     "text": [
      "Requirement already up-to-date: scikit-learn in /opt/conda/lib/python3.7/site-packages (0.22.2.post1)\n",
      "Requirement already satisfied, skipping upgrade: joblib>=0.11 in /opt/conda/lib/python3.7/site-packages (from scikit-learn) (0.14.1)\n",
      "Requirement already satisfied, skipping upgrade: scipy>=0.17.0 in /opt/conda/lib/python3.7/site-packages (from scikit-learn) (1.4.1)\n",
      "Requirement already satisfied, skipping upgrade: numpy>=1.11.0 in /opt/conda/lib/python3.7/site-packages (from scikit-learn) (1.18.3)\n",
      "Note: you may need to restart the kernel to use updated packages.\n"
     ]
    }
   ],
   "source": [
    "pip install -U scikit-learn"
   ]
  },
  {
   "cell_type": "code",
   "execution_count": null,
   "metadata": {},
   "outputs": [],
   "source": [
    "#from sklearn.ensemble import RandomForestClassifier\n",
    "from sklearn.ensemble import RandomForestRegressor\n",
    "from sklearn.model_selection import RandomizedSearchCV\n",
    "\n",
    "\n",
    "parameters = {'n_estimators': [5,10,50,100,200,500,1000] ,\n",
    "             'max_depth' :  [2,3,4,5,6,7,8,9,10]}\n",
    "\n",
    "\n",
    "clf_rf = RandomForestRegressor(random_state=11)\n",
    "\n",
    "clf=RandomizedSearchCV(clf_rf ,param_distributions = parameters, scoring=\"neg_mean_squared_error\", cv=10)\n",
    "clf.fit(X_train,y_train)"
   ]
  },
  {
   "cell_type": "code",
   "execution_count": 30,
   "metadata": {},
   "outputs": [
    {
     "name": "stdout",
     "output_type": "stream",
     "text": [
      "-1.613220463986368\n",
      "100\n",
      "10\n"
     ]
    }
   ],
   "source": [
    "#https://scikit-learn.org/stable/modules/generated/sklearn.model_selection.GridSearchCV.html\n",
    "a=clf.best_params_['n_estimators']\n",
    "p = clf.best_params_['max_depth']\n",
    "print(clf.best_score_)\n",
    "print(a)\n",
    "print(p)"
   ]
  },
  {
   "cell_type": "code",
   "execution_count": 31,
   "metadata": {},
   "outputs": [],
   "source": [
    "#Calculating y_train_pred and y_test_pred\n",
    "y_train_pred = clf.predict(X_train)\n",
    "y_test_pred = clf.predict(X_test)"
   ]
  },
  {
   "cell_type": "code",
   "execution_count": 32,
   "metadata": {},
   "outputs": [],
   "source": [
    "#Calculating rsme and mape scores by using the utility function\n",
    "rmse_train = root_mean_squared_error(np.mean(y_train), y_train_pred)\n",
    "rmse_test = root_mean_squared_error(np.mean(y_test), y_test_pred)"
   ]
  },
  {
   "cell_type": "code",
   "execution_count": 33,
   "metadata": {},
   "outputs": [
    {
     "name": "stdout",
     "output_type": "stream",
     "text": [
      "Train RMSE :  0.09853955273915958\n",
      "\n",
      "---------------------------------------------\n",
      "Test RMSE :  0.088096504311728\n"
     ]
    }
   ],
   "source": [
    "print('Train RMSE : ', rmse_train)\n",
    "print('\\n'+'-'*45)\n",
    "print('Test RMSE : ', rmse_test)"
   ]
  },
  {
   "cell_type": "code",
   "execution_count": 34,
   "metadata": {},
   "outputs": [
    {
     "data": {
      "text/plain": [
       "RandomForestRegressor(bootstrap=True, ccp_alpha=0.0, criterion='mse',\n",
       "                      max_depth=10, max_features='auto', max_leaf_nodes=None,\n",
       "                      max_samples=None, min_impurity_decrease=0.0,\n",
       "                      min_impurity_split=None, min_samples_leaf=1,\n",
       "                      min_samples_split=2, min_weight_fraction_leaf=0.0,\n",
       "                      n_estimators=100, n_jobs=None, oob_score=False,\n",
       "                      random_state=11, verbose=0, warm_start=False)"
      ]
     },
     "execution_count": 34,
     "metadata": {},
     "output_type": "execute_result"
    }
   ],
   "source": [
    "# initialize Our first XGBoost model...\n",
    "first_rf=RandomForestRegressor(random_state=11,max_depth=p, n_estimators=a)\n",
    "first_rf.fit(X_train,y_train)"
   ]
  },
  {
   "cell_type": "code",
   "execution_count": 35,
   "metadata": {},
   "outputs": [
    {
     "name": "stdout",
     "output_type": "stream",
     "text": [
      "Sorted Feature Importance:\n",
      "[(0.34665109585490045, 'card_id'), (0.13576402615497096, 'purchase_amount'), (0.11408330014067478, 'merchant_id'), (0.07297851646716934, 'city_id'), (0.06315624630846088, 'merchant_category_id'), (0.05175112937741567, 'month_lag'), (0.04550159577712224, 'state_id'), (0.04330655716908893, 'subsector_id'), (0.03898770904210475, 'feature_1'), (0.02853309125031698, 'feature_2'), (0.021640896024411282, 'installments'), (0.020650079553432087, 'category_2'), (0.008067049901486534, 'feature_3'), (0.006164689892738173, 'category_1'), (0.002764017085706982, 'category_3'), (0.0, 'purchase_date')]\n"
     ]
    }
   ],
   "source": [
    "# display the relative importance of each attribute\n",
    "importances = first_rf.feature_importances_\n",
    "#Sort it\n",
    "print (\"Sorted Feature Importance:\")\n",
    "sorted_feature_importance = sorted(zip(importances, list(X_train)), reverse=True)\n",
    "print (sorted_feature_importance)"
   ]
  },
  {
   "cell_type": "code",
   "execution_count": 36,
   "metadata": {},
   "outputs": [
    {
     "data": {
      "image/png": "[encoded data removed]",
      "text/plain": [
       "<Figure size 432x288 with 1 Axes>"
      ]
     },
     "metadata": {
      "needs_background": "light"
     },
     "output_type": "display_data"
    }
   ],
   "source": [
    "features = list(X_train)\n",
    "importances = first_rf.feature_importances_\n",
    "indices = np.argsort(importances)\n",
    "\n",
    "plt.title('Feature Importances')\n",
    "plt.barh(range(len(indices)), importances[indices], color='b', align='center')\n",
    "plt.yticks(range(len(indices)), [features[i] for i in indices])\n",
    "plt.xlabel('Relative Importance')\n",
    "plt.show()"
   ]
  },
  {
   "cell_type": "markdown",
   "metadata": {},
   "source": [
    "<h3> 3) LightGBM </h3>"
   ]
  },
  {
   "cell_type": "markdown",
   "metadata": {},
   "source": [
    "<h4> Hyperparameter Tuning </h4>"
   ]
  },
  {
   "cell_type": "code",
   "execution_count": 29,
   "metadata": {},
   "outputs": [],
   "source": [
    "from lightgbm import LGBMRegressor\n",
    "from sklearn.model_selection import RandomizedSearchCV\n",
    "param = {'n_estimators':  [5,10,50,100,200,500,1000] ,\n",
    "             'max_depth' :  [2,3,4,5,6,7,8,9,10] ,\n",
    "             'reg_lambda':  [0.05,0.5,0,1,2] ,\n",
    "             'reg_alpha' :  [0.05,0.5,0,1,2] ,\n",
    "             'learning_rate':  [0.005,0.05,0.5,0.1]}\n",
    "\n",
    "\n",
    "estimator = lgb.LGBMRegressor()\n",
    "clf= RandomizedSearchCV(estimator, param_distributions=param, scoring='neg_mean_squared_error', cv=5, verbose=1)\n",
    "#clf.fit(X_train,y_train)\n",
    "#clf.best_params_, clf.best_score_"
   ]
  },
  {
   "cell_type": "code",
   "execution_count": 30,
   "metadata": {},
   "outputs": [
    {
     "name": "stdout",
     "output_type": "stream",
     "text": [
      "Fitting 5 folds for each of 10 candidates, totalling 50 fits\n"
     ]
    },
    {
     "name": "stderr",
     "output_type": "stream",
     "text": [
      "[Parallel(n_jobs=1)]: Using backend SequentialBackend with 1 concurrent workers.\n",
      "[Parallel(n_jobs=1)]: Done  50 out of  50 | elapsed:  2.8min finished\n"
     ]
    },
    {
     "name": "stdout",
     "output_type": "stream",
     "text": [
      "Best score reached: -1.6064828551920822 with params: {'reg_lambda': 1, 'reg_alpha': 0.05, 'n_estimators': 500, 'max_depth': 8, 'learning_rate': 0.1} \n"
     ]
    }
   ],
   "source": [
    "clf.fit(X_train, y_train)\n",
    "print('Best score reached: {} with params: {} '.format(clf.best_score_, clf.best_params_))"
   ]
  },
  {
   "cell_type": "code",
   "execution_count": 31,
   "metadata": {},
   "outputs": [
    {
     "name": "stdout",
     "output_type": "stream",
     "text": [
      "-1.6064828551920822\n",
      "500\n",
      "8\n",
      "1\n",
      "0.05\n",
      "0.1\n"
     ]
    }
   ],
   "source": [
    "#https://scikit-learn.org/stable/modules/generated/sklearn.model_selection.GridSearchCV.html\n",
    "a=clf.best_params_['n_estimators']\n",
    "p = clf.best_params_['max_depth']\n",
    "q = clf.best_params_['reg_lambda']\n",
    "r = clf.best_params_['reg_alpha']\n",
    "s = clf.best_params_['learning_rate']\n",
    "print(clf.best_score_)\n",
    "print(a)\n",
    "print(p)\n",
    "print(q)\n",
    "print(r)\n",
    "print(s)"
   ]
  },
  {
   "cell_type": "code",
   "execution_count": 32,
   "metadata": {},
   "outputs": [],
   "source": [
    "#Calculating y_train_pred and y_test_pred\n",
    "y_train_pred = clf.predict(X_train)\n",
    "y_test_pred = clf.predict(X_test)"
   ]
  },
  {
   "cell_type": "code",
   "execution_count": 33,
   "metadata": {},
   "outputs": [],
   "source": [
    "#Calculating rsme and mape scores by using the utility function\n",
    "rmse_train = root_mean_squared_error(np.mean(y_train), y_train_pred)\n",
    "rmse_test = root_mean_squared_error(np.mean(y_test), y_test_pred)"
   ]
  },
  {
   "cell_type": "code",
   "execution_count": 34,
   "metadata": {},
   "outputs": [
    {
     "name": "stdout",
     "output_type": "stream",
     "text": [
      "Train RMSE :  0.19503661136870817\n",
      "\n",
      "---------------------------------------------\n",
      "Test RMSE :  0.18523077930954995\n"
     ]
    }
   ],
   "source": [
    "print('Train RMSE : ', rmse_train)\n",
    "print('\\n'+'-'*45)\n",
    "print('Test RMSE : ', rmse_test)"
   ]
  },
  {
   "cell_type": "code",
   "execution_count": 35,
   "metadata": {},
   "outputs": [
    {
     "data": {
      "text/plain": [
       "LGBMRegressor(boosting_type='gbdt', class_weight='balanced',\n",
       "              colsample_bytree=1.0, importance_type='split', learning_rate=0.1,\n",
       "              max_depth=8, min_child_samples=20, min_child_weight=0.001,\n",
       "              min_split_gain=0.0, n_estimators=500, n_jobs=-1, num_leaves=31,\n",
       "              objective=None, random_state=None, reg_alpha=0.05, reg_lambda=1,\n",
       "              silent=True, subsample=1.0, subsample_for_bin=200000,\n",
       "              subsample_freq=0)"
      ]
     },
     "execution_count": 35,
     "metadata": {},
     "output_type": "execute_result"
    }
   ],
   "source": [
    "# Train new model\n",
    "first_LG = LGBMRegressor(max_depth=p, n_estimators=a, learning_rate = s, reg_lambda = q, reg_alpha = r, class_weight='balanced')\n",
    "first_LG.fit(X_train,y_train)"
   ]
  },
  {
   "cell_type": "code",
   "execution_count": 37,
   "metadata": {},
   "outputs": [
    {
     "name": "stdout",
     "output_type": "stream",
     "text": [
      "Sorted Feature Importance:\n",
      "[(3004, 'card_id'), (2174, 'purchase_amount'), (2008, 'merchant_id'), (1546, 'city_id'), (1231, 'month_lag'), (1077, 'merchant_category_id'), (904, 'subsector_id'), (785, 'state_id'), (674, 'feature_1'), (484, 'category_2'), (447, 'feature_2'), (418, 'installments'), (200, 'feature_3'), (47, 'category_1'), (1, 'category_3'), (0, 'purchase_date')]\n"
     ]
    }
   ],
   "source": [
    "# display the relative importance of each attribute\n",
    "importances = first_LG.feature_importances_\n",
    "#Sort it\n",
    "print (\"Sorted Feature Importance:\")\n",
    "sorted_feature_importance = sorted(zip(importances, list(X_train)), reverse=True)\n",
    "print (sorted_feature_importance)"
   ]
  },
  {
   "cell_type": "code",
   "execution_count": 38,
   "metadata": {},
   "outputs": [
    {
     "data": {
      "image/png": "[encoded data removed]",
      "text/plain": [
       "<Figure size 432x288 with 1 Axes>"
      ]
     },
     "metadata": {
      "needs_background": "light"
     },
     "output_type": "display_data"
    }
   ],
   "source": [
    "features = list(X_train)\n",
    "importances = first_LG.feature_importances_\n",
    "indices = np.argsort(importances)\n",
    "\n",
    "plt.title('Feature Importances')\n",
    "plt.barh(range(len(indices)), importances[indices], color='b', align='center')\n",
    "plt.yticks(range(len(indices)), [features[i] for i in indices])\n",
    "plt.xlabel('Relative Importance')\n",
    "plt.show()"
   ]
  },
  {
   "cell_type": "code",
   "execution_count": 37,
   "metadata": {},
   "outputs": [
    {
     "name": "stdout",
     "output_type": "stream",
     "text": [
      "+------------------+-----------+\n",
      "|      Model       | Test- MSE |\n",
      "+------------------+-----------+\n",
      "| Randomised Model |   1.283   |\n",
      "|  Random Forest   |   0.088   |\n",
      "|     XGBoost      |   0.488   |\n",
      "|     LightGBM     |   0.185   |\n",
      "+------------------+-----------+\n"
     ]
    }
   ],
   "source": [
    "\n",
    "from prettytable import PrettyTable\n",
    "\n",
    "tb = PrettyTable()\n",
    "tb.field_names= (\"Model\", \"Test- MSE\")\n",
    "tb.add_row([\"Randomised Model\", \"1.283\"])\n",
    "tb.add_row([\"Random Forest\", \"0.088\"])\n",
    "tb.add_row([\"XGBoost\", \"0.488\",])\n",
    "tb.add_row([\"LightGBM\", \"0.185\"])\n",
    "print(tb.get_string(titles = \"Regression Models- Observations\"))\n",
    "#print(tb)"
   ]
  }
 ],
 "metadata": {
  "kernelspec": {
   "display_name": "Python 3",
   "language": "python",
   "name": "python3"
  },
  "language_info": {
   "codemirror_mode": {
    "name": "ipython",
    "version": 3
   },
   "file_extension": ".py",
   "mimetype": "text/x-python",
   "name": "python",
   "nbconvert_exporter": "python",
   "pygments_lexer": "ipython3",
   "version": "3.7.6"
  }
 },
 "nbformat": 4,
 "nbformat_minor": 4
}
